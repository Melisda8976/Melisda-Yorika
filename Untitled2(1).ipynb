{
  "cells": [
    {
      "cell_type": "code",
      "execution_count": null,
      "metadata": {
        "colab": {
          "base_uri": "https://localhost:8080/"
        },
        "id": "YvPpiI1mql-c",
        "outputId": "652719be-0b6b-4e90-c378-e34aef1f42ba"
      },
      "outputs": [
        {
          "name": "stdout",
          "output_type": "stream",
          "text": [
            "Selamat datang di aplikasi perhitungan nilai mahasiswa\n",
            "Silahkan masukan nilai tugas anda: 89\n",
            "Silahkan masukan nilai UTS anda: 90\n",
            "Silahkan masukan nilai UAS anda: 90\n",
            "Nilai akhir anda:  89.75\n",
            "Dalam huruf: A\n"
          ]
        }
      ],
      "source": [
        "#Nama : Melisda Yorika\n",
        "#NIM : 41823010010\n",
        "#Mata Kuliah : Pemrograman Lanjut\n",
        "\n",
        "print(\"Selamat datang di aplikasi perhitungan nilai mahasiswa\")\n",
        "nilai_tugas = float(input(\"Silahkan masukan nilai tugas anda: \"))\n",
        "nilai_UTS = float(input(\"Silahkan masukan nilai UTS anda: \"))\n",
        "nilai_UAS = float(input(\"Silahkan masukan nilai UAS anda: \"))\n",
        "\n",
        "nilai_akhir = (nilai_tugas * 0.25) + (nilai_UTS * 0.35) + (nilai_UAS * 0.40)\n",
        "\n",
        "print(\"Nilai akhir anda: \", nilai_akhir)\n",
        "\n",
        "if nilai_akhir >= 85:\n",
        "  print(\"Dalam huruf: A\")\n",
        "elif nilai_akhir >= 80:\n",
        "  print(\"Dalam huruf: A-\")\n",
        "elif nilai_akhir >= 75:\n",
        "  print(\"Dalam huruf: B+\")\n",
        "elif nilai_akhir >= 70:\n",
        "  print(\"Dalam huruf: B\")\n",
        "elif nilai_akhir >= 65:\n",
        "  print(\"Dalam huruf: B-\")\n",
        "elif nilai_akhir >= 60:\n",
        "  print(\"Dalam huruf: C+\")\n",
        "elif nilai_akhir >= 55:\n",
        "  print(\"Dalam huruf: C\")\n",
        "elif nilai_akhir >= 50:\n",
        "  print(\"Dalam huruf: C-\")\n",
        "elif nilai_akhir >= 30:\n",
        "  print(\"Dalam huruf: D\")\n",
        "else:\n",
        "  print(\"Dalam huruf: E\")"
      ]
    },
    {
      "cell_type": "code",
      "execution_count": null,
      "metadata": {
        "id": "vy6K1URoRad_"
      },
      "outputs": [],
      "source": []
    },
    {
      "cell_type": "code",
      "execution_count": null,
      "metadata": {
        "id": "XXy-YnDxr44S"
      },
      "outputs": [],
      "source": [
        "\n"
      ]
    }
  ],
  "metadata": {
    "colab": {
      "provenance": []
    },
    "kernelspec": {
      "display_name": "Python 3",
      "name": "python3"
    },
    "language_info": {
      "name": "python"
    }
  },
  "nbformat": 4,
  "nbformat_minor": 0
}
